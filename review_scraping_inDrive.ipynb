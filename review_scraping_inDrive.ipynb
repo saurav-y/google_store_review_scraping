{
 "cells": [
  {
   "cell_type": "markdown",
   "id": "817c4c07-855b-467b-9a0d-f3086afb4aed",
   "metadata": {},
   "source": [
    "### Install required Libraries"
   ]
  },
  {
   "cell_type": "code",
   "execution_count": 9,
   "id": "8e3bfe7a-79db-4b88-8805-82f5a2b15d31",
   "metadata": {},
   "outputs": [],
   "source": [
    "%%capture\n",
    "!pip install google_play_scraper\n",
    "!pip install pandas\n",
    "!pip install numpy"
   ]
  },
  {
   "cell_type": "markdown",
   "id": "18f38c85-3b3f-4f08-8511-e2bf444517d7",
   "metadata": {},
   "source": [
    "### Import required Libraries"
   ]
  },
  {
   "cell_type": "code",
   "execution_count": null,
   "id": "9dfa68a8-f1a7-4090-b3c9-d5afdfb49854",
   "metadata": {},
   "outputs": [],
   "source": [
    "from google_play_scraper import app\n",
    "import pandas as pd\n",
    "import numpy as np\n",
    "from google_play_scraper import Sort, reviews_all"
   ]
  },
  {
   "cell_type": "markdown",
   "id": "bb206c56-486a-4acb-bfe7-858426ac7554",
   "metadata": {},
   "source": [
    "### Get all reviews.\n",
    "- Takes a while to run (Since there are many reviews/ratings fetch)\n",
    "- reviews_all function can be replaced with the review function:\n",
    "    - Enables you to specify the count of review you may need and essentially use batching for large number of reviews"
   ]
  },
  {
   "cell_type": "code",
   "execution_count": null,
   "id": "7b84362f-d576-4880-9d0d-ac55b3d9c6af",
   "metadata": {},
   "outputs": [],
   "source": [
    "us_reviews = reviews_all(\n",
    "    'sinet.startup.inDriver',\n",
    "    sleep_milliseconds=0, # defaults to 0\n",
    "    lang='en', # defaults to 'en'\n",
    "    country='us', # defaults to 'us'\n",
    "    sort=Sort.NEWEST, # defaults to Sort.MOST_RELEVANT\n",
    ")"
   ]
  },
  {
   "cell_type": "markdown",
   "id": "d108ecd4-64b2-4196-b4c3-ce3804dc037e",
   "metadata": {},
   "source": [
    "### Convert the Reviews to a Dataframe"
   ]
  },
  {
   "cell_type": "code",
   "execution_count": null,
   "id": "70b94ed1-448c-42de-95e8-b5c2afb64d89",
   "metadata": {},
   "outputs": [],
   "source": [
    "df = pd.DataFrame(np.array(us_reviews),columns=['review'])\n",
    "df = df.join(pd.DataFrame(df.pop('review').tolist()))"
   ]
  },
  {
   "cell_type": "markdown",
   "id": "3c46b840-7f66-4e3f-b1d6-e537558f4095",
   "metadata": {},
   "source": [
    "### See a sample row of the dataframe. Also check the number of rows/columns"
   ]
  },
  {
   "cell_type": "code",
   "execution_count": 12,
   "id": "b35818c9-3e98-4a3f-a0d7-3ccd3cbe9ae4",
   "metadata": {},
   "outputs": [
    {
     "data": {
      "text/html": [
       "<div>\n",
       "<style scoped>\n",
       "    .dataframe tbody tr th:only-of-type {\n",
       "        vertical-align: middle;\n",
       "    }\n",
       "\n",
       "    .dataframe tbody tr th {\n",
       "        vertical-align: top;\n",
       "    }\n",
       "\n",
       "    .dataframe thead th {\n",
       "        text-align: right;\n",
       "    }\n",
       "</style>\n",
       "<table border=\"1\" class=\"dataframe\">\n",
       "  <thead>\n",
       "    <tr style=\"text-align: right;\">\n",
       "      <th></th>\n",
       "      <th>reviewId</th>\n",
       "      <th>userName</th>\n",
       "      <th>userImage</th>\n",
       "      <th>content</th>\n",
       "      <th>score</th>\n",
       "      <th>thumbsUpCount</th>\n",
       "      <th>reviewCreatedVersion</th>\n",
       "      <th>at</th>\n",
       "      <th>replyContent</th>\n",
       "      <th>repliedAt</th>\n",
       "      <th>appVersion</th>\n",
       "    </tr>\n",
       "  </thead>\n",
       "  <tbody>\n",
       "    <tr>\n",
       "      <th>42111</th>\n",
       "      <td>8df2ee39-8645-4722-b8aa-68610877dc5f</td>\n",
       "      <td>A Google user</td>\n",
       "      <td>https://play-lh.googleusercontent.com/EGemoI2N...</td>\n",
       "      <td>Very good app</td>\n",
       "      <td>5</td>\n",
       "      <td>0</td>\n",
       "      <td>3.20.11</td>\n",
       "      <td>2019-10-12 12:03:43</td>\n",
       "      <td>None</td>\n",
       "      <td>NaT</td>\n",
       "      <td>3.20.11</td>\n",
       "    </tr>\n",
       "  </tbody>\n",
       "</table>\n",
       "</div>"
      ],
      "text/plain": [
       "                                   reviewId       userName  \\\n",
       "42111  8df2ee39-8645-4722-b8aa-68610877dc5f  A Google user   \n",
       "\n",
       "                                               userImage        content  \\\n",
       "42111  https://play-lh.googleusercontent.com/EGemoI2N...  Very good app   \n",
       "\n",
       "       score  thumbsUpCount reviewCreatedVersion                  at  \\\n",
       "42111      5              0              3.20.11 2019-10-12 12:03:43   \n",
       "\n",
       "      replyContent repliedAt appVersion  \n",
       "42111         None       NaT    3.20.11  "
      ]
     },
     "metadata": {},
     "output_type": "display_data"
    },
    {
     "name": "stdout",
     "output_type": "stream",
     "text": [
      "(54526, 11)\n"
     ]
    }
   ],
   "source": [
    "display(df.sample())\n",
    "print(df.shape)"
   ]
  },
  {
   "cell_type": "markdown",
   "id": "816d2997-217c-40ec-84ec-458a75029db2",
   "metadata": {},
   "source": [
    "### Save dataframe to a csv"
   ]
  },
  {
   "cell_type": "code",
   "execution_count": null,
   "id": "1ba72792-9e1d-44b5-b8b4-616df8a98186",
   "metadata": {},
   "outputs": [],
   "source": [
    "df.to_csv('inDrive_us_reviews.csv',index=False)"
   ]
  }
 ],
 "metadata": {
  "kernelspec": {
   "display_name": "Python 3 (ipykernel)",
   "language": "python",
   "name": "python3"
  },
  "language_info": {
   "codemirror_mode": {
    "name": "ipython",
    "version": 3
   },
   "file_extension": ".py",
   "mimetype": "text/x-python",
   "name": "python",
   "nbconvert_exporter": "python",
   "pygments_lexer": "ipython3",
   "version": "3.12.0"
  }
 },
 "nbformat": 4,
 "nbformat_minor": 5
}
